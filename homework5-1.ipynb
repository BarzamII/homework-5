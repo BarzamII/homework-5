{
 "cells": [
  {
   "cell_type": "code",
   "execution_count": 25,
   "id": "2d3ec858-cd50-4753-a8d6-5a602fc1e7cd",
   "metadata": {},
   "outputs": [
    {
     "name": "stdout",
     "output_type": "stream",
     "text": [
      "Top 10 most similar users (all users included):\n",
      "[418, 155, 341, 685, 812, 351, 811, 166, 810, 309]\n"
     ]
    }
   ],
   "source": [
    "import pandas as pd\n",
    "import numpy as np\n",
    "\n",
    "ratings = pd.read_csv(r\"C:\\Users\\ASUS\\Desktop\\ml-100k\\ml-100k\\u.data\",sep=\"\\t\",names=[\"user_id\",\"item_id\",\"rating\",\"timestamp\"])\n",
    "utility_matrix=ratings.pivot_table(index=\"user_id\", columns=\"item_id\", values=\"rating\")\n",
    "\n",
    "user_means=utility_matrix.mean(axis=1)\n",
    "centered_matrix=utility_matrix.sub(user_means,axis=0)\n",
    "\n",
    "user1_id=1\n",
    "item_id=508\n",
    "user1=centered_matrix.loc[user1_id]\n",
    "all_similarities=[]\n",
    "\n",
    "for user in centered_matrix.index:\n",
    "    if user==user1_id:\n",
    "        continue\n",
    "    user_centered=centered_matrix.loc[user]\n",
    "    common_items=user1.notna()&user_centered.notna()\n",
    "    if common_items.any():\n",
    "        u1=user1[common_items].values.astype(float)\n",
    "        u=user_centered[common_items].values.astype(float)\n",
    "        dot_product=np.dot(u1, u)\n",
    "        norm_u1=np.linalg.norm(u1)\n",
    "        norm_u=np.linalg.norm(u)\n",
    "        cosine=dot_product / (norm_u1*norm_u)if norm_u1*norm_u!=0 else 0.0\n",
    "    else:\n",
    "        cosine=0.0\n",
    "    all_similarities.append((user,cosine))\n",
    "\n",
    "top10=sorted(all_similarities,key=lambda x:x[1],reverse=True)[:10]\n",
    "print(\"Top 10 most similar users (all users included):\")\n",
    "print([user for user,_ in top10])\n"
   ]
  },
  {
   "cell_type": "code",
   "execution_count": 26,
   "id": "03bb8853-8d8a-48e8-8e51-87341904ffbf",
   "metadata": {},
   "outputs": [
    {
     "name": "stdout",
     "output_type": "stream",
     "text": [
      "None of the 10 most similar users rated item 508\n"
     ]
    }
   ],
   "source": [
    "numerator=0.0\n",
    "denominator=0.0\n",
    "for user, cosine in top10:\n",
    "    rating_centered=centered_matrix.loc[user, item_id]\n",
    "    numerator+=cosine*rating_centered\n",
    "    denominator+=cosine\n",
    "\n",
    "predicted_centered=numerator / denominator if denominator != 0 else 0\n",
    "predicted_rating=user_means[user1_id] + predicted_centered\n",
    "\n",
    "if np.isnan(predicted_rating):\n",
    "    print(\"None of the 10 most similar users rated item 508\")\n",
    "else:\n",
    "    print(f\"Prediction of user 1's rating for item 508:{predicted_rating:.2f}\")"
   ]
  },
  {
   "cell_type": "code",
   "execution_count": 27,
   "id": "265c17c5-146a-4311-a108-67762c70c012",
   "metadata": {},
   "outputs": [
    {
     "name": "stdout",
     "output_type": "stream",
     "text": [
      "Top 10 most similar users (rating item 508):\n",
      "[266, 134, 413, 905, 199, 32, 66, 526, 69, 120]\n"
     ]
    }
   ],
   "source": [
    "top10_rated=[]\n",
    "for user,cosine in sorted(all_similarities,key=lambda x:x[1],reverse=True):\n",
    "    if not np.isnan(utility_matrix.loc[user,item_id]):\n",
    "        top10_rated.append((user,cosine))\n",
    "    if len(top10_rated)==10:\n",
    "        break\n",
    "\n",
    "print(\"Top 10 most similar users (rating item 508):\")\n",
    "print([user for user,_ in top10_rated])"
   ]
  },
  {
   "cell_type": "code",
   "execution_count": 28,
   "id": "9cf3698d-9c02-4b72-99e1-7c2b256ca8ea",
   "metadata": {},
   "outputs": [
    {
     "name": "stdout",
     "output_type": "stream",
     "text": [
      "Prediction of user 1's rating for item 508:3.89\n"
     ]
    }
   ],
   "source": [
    "numerator=0.0\n",
    "denominator=0.0\n",
    "for user,cosine in top10_rated:\n",
    "    rating_centered=centered_matrix.loc[user,item_id]\n",
    "    numerator+=cosine*rating_centered\n",
    "    denominator+=cosine\n",
    "\n",
    "predicted_centered=numerator/denominator if denominator!=0 else 0\n",
    "predicted_rating=user_means[user1_id]+predicted_centered\n",
    "\n",
    "print(f\"Prediction of user 1's rating for item 508:{predicted_rating:.2f}\")"
   ]
  }
 ],
 "metadata": {
  "kernelspec": {
   "display_name": "Python 3 (ipykernel)",
   "language": "python",
   "name": "python3"
  },
  "language_info": {
   "codemirror_mode": {
    "name": "ipython",
    "version": 3
   },
   "file_extension": ".py",
   "mimetype": "text/x-python",
   "name": "python",
   "nbconvert_exporter": "python",
   "pygments_lexer": "ipython3",
   "version": "3.9.10"
  }
 },
 "nbformat": 4,
 "nbformat_minor": 5
}
