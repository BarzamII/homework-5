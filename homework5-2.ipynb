{
 "cells": [
  {
   "cell_type": "code",
   "execution_count": 1,
   "id": "4d771dd5-5d50-466c-a4dd-4b735367acbb",
   "metadata": {},
   "outputs": [
    {
     "name": "stdout",
     "output_type": "stream",
     "text": [
      "Cosine similarity between user 200 and item 95:0.0890\n",
      "Euclidean distance between user 200 and item 95:6.9553\n",
      "Cosine similarity between user 15 and item 95:0.1305\n",
      "Euclidean distance between user 15 and item 95:7.8602\n",
      "\n",
      "Movie 95 should be recommended to user 15\n"
     ]
    }
   ],
   "source": [
    "import pandas as pd\n",
    "import numpy as np\n",
    "from scipy.spatial.distance import cosine, euclidean\n",
    "\n",
    "ratings = pd.read_csv(r\"C:\\Users\\ASUS\\Desktop\\ml-100k\\ml-100k\\u.data\", sep=\"\\t\", names=[\"user_id\", \"item_id\", \"rating\", \"timestamp\"])\n",
    "utility_matrix = ratings.pivot_table(index=\"user_id\", columns=\"item_id\", values=\"rating\")\n",
    "\n",
    "user_means=utility_matrix.mean(axis=1)\n",
    "centered_matrix=utility_matrix.sub(user_means, axis=0)\n",
    "\n",
    "user200=centered_matrix.loc[200].dropna()\n",
    "user15=centered_matrix.loc[15].dropna()\n",
    "\n",
    "item95=centered_matrix[95].dropna()\n",
    "\n",
    "common_items_user200=user200.index.intersection(item95.index)\n",
    "vec_user200=user200.loc[common_items_user200].values\n",
    "vec_item95=item95.loc[common_items_user200].values\n",
    "cos_sim_user200=1-cosine(vec_user200, vec_item95)\n",
    "\n",
    "common_items_user15=user15.index.intersection(item95.index)\n",
    "vec_user15=user15.loc[common_items_user15].values\n",
    "vec_item95_user15=item95.loc[common_items_user15].values\n",
    "cos_sim_user15=1-cosine(vec_user15,vec_item95_user15)\n",
    "\n",
    "eucl_dist_user200=euclidean(vec_user200, vec_item95) if len(vec_user200)>0 else np.nan\n",
    "eucl_dist_user15=euclidean(vec_user15, vec_item95_user15) if len(vec_user15)>0 else np.nan\n",
    "\n",
    "print(f\"Cosine similarity between user 200 and item 95:{cos_sim_user200:.4f}\")\n",
    "print(f\"Euclidean distance between user 200 and item 95:{eucl_dist_user200:.4f}\")\n",
    "print(f\"Cosine similarity between user 15 and item 95:{cos_sim_user15:.4f}\")\n",
    "print(f\"Euclidean distance between user 15 and item 95:{eucl_dist_user15:.4f}\")\n",
    "\n",
    "if cos_sim_user200>cos_sim_user15:\n",
    "    print(\"\\nMovie 95 should be recommended to user 200\")\n",
    "else:\n",
    "    print(\"\\nMovie 95 should be recommended to user 15\")"
   ]
  },
  {
   "cell_type": "code",
   "execution_count": null,
   "id": "82875c3f-c886-4411-966d-ee8ce11ddf4d",
   "metadata": {},
   "outputs": [],
   "source": []
  }
 ],
 "metadata": {
  "kernelspec": {
   "display_name": "Python 3 (ipykernel)",
   "language": "python",
   "name": "python3"
  },
  "language_info": {
   "codemirror_mode": {
    "name": "ipython",
    "version": 3
   },
   "file_extension": ".py",
   "mimetype": "text/x-python",
   "name": "python",
   "nbconvert_exporter": "python",
   "pygments_lexer": "ipython3",
   "version": "3.9.10"
  }
 },
 "nbformat": 4,
 "nbformat_minor": 5
}
